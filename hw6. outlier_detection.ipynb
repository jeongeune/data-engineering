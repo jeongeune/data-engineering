{
 "cells": [
  {
   "cell_type": "code",
   "execution_count": 6,
   "id": "162588fc-dd17-4446-b940-8fc7a808d1a6",
   "metadata": {},
   "outputs": [
    {
     "name": "stderr",
     "output_type": "stream",
     "text": [
      "C:\\Users\\lejeo\\AppData\\Local\\Temp/ipykernel_11496/4122421229.py:3: FutureWarning: The pandas.datetime class is deprecated and will be removed from pandas in a future version. Import from datetime module instead.\n",
      "  from pandas import datetime\n"
     ]
    },
    {
     "data": {
      "text/html": [
       "<div>\n",
       "<style scoped>\n",
       "    .dataframe tbody tr th:only-of-type {\n",
       "        vertical-align: middle;\n",
       "    }\n",
       "\n",
       "    .dataframe tbody tr th {\n",
       "        vertical-align: top;\n",
       "    }\n",
       "\n",
       "    .dataframe thead th {\n",
       "        text-align: right;\n",
       "    }\n",
       "</style>\n",
       "<table border=\"1\" class=\"dataframe\">\n",
       "  <thead>\n",
       "    <tr style=\"text-align: right;\">\n",
       "      <th></th>\n",
       "      <th>CO(GT)</th>\n",
       "      <th>PT08.S1(CO)</th>\n",
       "      <th>PT08.S2(NMHC)</th>\n",
       "      <th>NOx(GT)</th>\n",
       "      <th>PT08.S3(NOx)</th>\n",
       "      <th>NO2(GT)</th>\n",
       "      <th>PT08.S4(NO2)</th>\n",
       "      <th>PT08.S5(O3)</th>\n",
       "      <th>RH</th>\n",
       "      <th>AH</th>\n",
       "      <th>C6H6(GT)</th>\n",
       "    </tr>\n",
       "    <tr>\n",
       "      <th>Datetime</th>\n",
       "      <th></th>\n",
       "      <th></th>\n",
       "      <th></th>\n",
       "      <th></th>\n",
       "      <th></th>\n",
       "      <th></th>\n",
       "      <th></th>\n",
       "      <th></th>\n",
       "      <th></th>\n",
       "      <th></th>\n",
       "      <th></th>\n",
       "    </tr>\n",
       "  </thead>\n",
       "  <tbody>\n",
       "    <tr>\n",
       "      <th>2004-03-10 18:00:00</th>\n",
       "      <td>2.6</td>\n",
       "      <td>1360.0</td>\n",
       "      <td>1046.0</td>\n",
       "      <td>166.0</td>\n",
       "      <td>1056.0</td>\n",
       "      <td>113.0</td>\n",
       "      <td>1692.0</td>\n",
       "      <td>1268.0</td>\n",
       "      <td>48.9</td>\n",
       "      <td>0.7578</td>\n",
       "      <td>11.9</td>\n",
       "    </tr>\n",
       "    <tr>\n",
       "      <th>2004-03-10 19:00:00</th>\n",
       "      <td>2.0</td>\n",
       "      <td>1292.0</td>\n",
       "      <td>955.0</td>\n",
       "      <td>103.0</td>\n",
       "      <td>1174.0</td>\n",
       "      <td>92.0</td>\n",
       "      <td>1559.0</td>\n",
       "      <td>972.0</td>\n",
       "      <td>47.7</td>\n",
       "      <td>0.7255</td>\n",
       "      <td>9.4</td>\n",
       "    </tr>\n",
       "    <tr>\n",
       "      <th>2004-03-10 20:00:00</th>\n",
       "      <td>2.2</td>\n",
       "      <td>1402.0</td>\n",
       "      <td>939.0</td>\n",
       "      <td>131.0</td>\n",
       "      <td>1140.0</td>\n",
       "      <td>114.0</td>\n",
       "      <td>1555.0</td>\n",
       "      <td>1074.0</td>\n",
       "      <td>54.0</td>\n",
       "      <td>0.7502</td>\n",
       "      <td>9.0</td>\n",
       "    </tr>\n",
       "    <tr>\n",
       "      <th>2004-03-10 21:00:00</th>\n",
       "      <td>2.2</td>\n",
       "      <td>1376.0</td>\n",
       "      <td>948.0</td>\n",
       "      <td>172.0</td>\n",
       "      <td>1092.0</td>\n",
       "      <td>122.0</td>\n",
       "      <td>1584.0</td>\n",
       "      <td>1203.0</td>\n",
       "      <td>60.0</td>\n",
       "      <td>0.7867</td>\n",
       "      <td>9.2</td>\n",
       "    </tr>\n",
       "    <tr>\n",
       "      <th>2004-03-10 22:00:00</th>\n",
       "      <td>1.6</td>\n",
       "      <td>1272.0</td>\n",
       "      <td>836.0</td>\n",
       "      <td>131.0</td>\n",
       "      <td>1205.0</td>\n",
       "      <td>116.0</td>\n",
       "      <td>1490.0</td>\n",
       "      <td>1110.0</td>\n",
       "      <td>59.6</td>\n",
       "      <td>0.7888</td>\n",
       "      <td>6.5</td>\n",
       "    </tr>\n",
       "  </tbody>\n",
       "</table>\n",
       "</div>"
      ],
      "text/plain": [
       "                     CO(GT)  PT08.S1(CO)  PT08.S2(NMHC)  NOx(GT)  \\\n",
       "Datetime                                                           \n",
       "2004-03-10 18:00:00     2.6       1360.0         1046.0    166.0   \n",
       "2004-03-10 19:00:00     2.0       1292.0          955.0    103.0   \n",
       "2004-03-10 20:00:00     2.2       1402.0          939.0    131.0   \n",
       "2004-03-10 21:00:00     2.2       1376.0          948.0    172.0   \n",
       "2004-03-10 22:00:00     1.6       1272.0          836.0    131.0   \n",
       "\n",
       "                     PT08.S3(NOx)  NO2(GT)  PT08.S4(NO2)  PT08.S5(O3)    RH  \\\n",
       "Datetime                                                                      \n",
       "2004-03-10 18:00:00        1056.0    113.0        1692.0       1268.0  48.9   \n",
       "2004-03-10 19:00:00        1174.0     92.0        1559.0        972.0  47.7   \n",
       "2004-03-10 20:00:00        1140.0    114.0        1555.0       1074.0  54.0   \n",
       "2004-03-10 21:00:00        1092.0    122.0        1584.0       1203.0  60.0   \n",
       "2004-03-10 22:00:00        1205.0    116.0        1490.0       1110.0  59.6   \n",
       "\n",
       "                         AH  C6H6(GT)  \n",
       "Datetime                               \n",
       "2004-03-10 18:00:00  0.7578      11.9  \n",
       "2004-03-10 19:00:00  0.7255       9.4  \n",
       "2004-03-10 20:00:00  0.7502       9.0  \n",
       "2004-03-10 21:00:00  0.7867       9.2  \n",
       "2004-03-10 22:00:00  0.7888       6.5  "
      ]
     },
     "execution_count": 6,
     "metadata": {},
     "output_type": "execute_result"
    }
   ],
   "source": [
    "import pandas as pd\n",
    "import numpy as np\n",
    "from pandas import datetime\n",
    "from matplotlib import pyplot as plt\n",
    "\n",
    "\"\"\"\n",
    "Load AirQualityUCI Data\n",
    "\"\"\"\n",
    "\n",
    "def parser(x):\n",
    "    return datetime.strptime(x, '%Y-%m-%d %H:%M:%S')\n",
    "\n",
    "input_file = 'AirQualityUCI_refined.csv'\n",
    "\n",
    "df = pd.read_csv(input_file,\n",
    "                 index_col=[0],\n",
    "                 parse_dates=[0],\n",
    "                 date_parser=parser)\n",
    "\n",
    "df.head()"
   ]
  },
  {
   "cell_type": "code",
   "execution_count": 7,
   "id": "d8863105-fe2f-432c-ac2e-f9bf438c0d35",
   "metadata": {},
   "outputs": [
    {
     "data": {
      "text/plain": [
       "<AxesSubplot:xlabel='Datetime'>"
      ]
     },
     "execution_count": 7,
     "metadata": {},
     "output_type": "execute_result"
    },
    {
     "data": {
      "image/png": "[encoded data removed]",
      "text/plain": [
       "<Figure size 432x288 with 1 Axes>"
      ]
     },
     "metadata": {
      "needs_background": "light"
     },
     "output_type": "display_data"
    }
   ],
   "source": [
    "# Visualize the 'PT08.S3(NOx)' variable\n",
    "df['PT08.S3(NOx)'].plot()"
   ]
  },
  {
   "cell_type": "code",
   "execution_count": 8,
   "id": "7cbb37f2-a71e-41b5-ab09-294148097dfa",
   "metadata": {},
   "outputs": [],
   "source": [
    "# Linear interpolation\n",
    "NOx=df['PT08.S3(NOx)'].interpolate().copy()"
   ]
  },
  {
   "cell_type": "code",
   "execution_count": 9,
   "id": "90897fad-c716-47e6-bdb2-cbefa6be5ef9",
   "metadata": {},
   "outputs": [
    {
     "data": {
      "text/plain": [
       "<matplotlib.legend.Legend at 0x2157908dd00>"
      ]
     },
     "execution_count": 9,
     "metadata": {},
     "output_type": "execute_result"
    },
    {
     "data": {
      "image/png": "[encoded data removed]",
      "text/plain": [
       "<Figure size 432x288 with 1 Axes>"
      ]
     },
     "metadata": {
      "needs_background": "light"
     },
     "output_type": "display_data"
    }
   ],
   "source": [
    "# Visualize original and imputed data\n",
    "plt.plot(df['PT08.S3(NOx)'], label='original', zorder=2)\n",
    "plt.plot(NOx, label='linear interpolation', zorder=1)\n",
    "plt.legend(loc='best')"
   ]
  },
  {
   "cell_type": "code",
   "execution_count": 10,
   "id": "c59085d5-9587-44fa-9064-033e6583a690",
   "metadata": {},
   "outputs": [
    {
     "data": {
      "text/plain": [
       "Text(0.5, 0, 'PT08.S3(NOx)')"
      ]
     },
     "execution_count": 10,
     "metadata": {},
     "output_type": "execute_result"
    },
    {
     "data": {
      "image/png": "[encoded data removed]",
      "text/plain": [
       "<Figure size 432x288 with 1 Axes>"
      ]
     },
     "metadata": {
      "needs_background": "light"
     },
     "output_type": "display_data"
    }
   ],
   "source": [
    "# Detecting outliers using Boxplot\n",
    "plt.boxplot(NOx)\n",
    "plt.title(\"Detecting outliers using Boxplt\")\n",
    "plt.xlabel('PT08.S3(NOx)')"
   ]
  },
  {
   "cell_type": "code",
   "execution_count": 11,
   "id": "aa167b1f-124c-411e-a2d3-b5639325a868",
   "metadata": {},
   "outputs": [
    {
     "data": {
      "text/html": [
       "<div>\n",
       "<style scoped>\n",
       "    .dataframe tbody tr th:only-of-type {\n",
       "        vertical-align: middle;\n",
       "    }\n",
       "\n",
       "    .dataframe tbody tr th {\n",
       "        vertical-align: top;\n",
       "    }\n",
       "\n",
       "    .dataframe thead th {\n",
       "        text-align: right;\n",
       "    }\n",
       "</style>\n",
       "<table border=\"1\" class=\"dataframe\">\n",
       "  <thead>\n",
       "    <tr style=\"text-align: right;\">\n",
       "      <th></th>\n",
       "      <th>CO(GT)</th>\n",
       "      <th>PT08.S1(CO)</th>\n",
       "      <th>PT08.S2(NMHC)</th>\n",
       "      <th>NOx(GT)</th>\n",
       "      <th>PT08.S3(NOx)</th>\n",
       "      <th>NO2(GT)</th>\n",
       "      <th>PT08.S4(NO2)</th>\n",
       "      <th>PT08.S5(O3)</th>\n",
       "      <th>RH</th>\n",
       "      <th>AH</th>\n",
       "      <th>C6H6(GT)</th>\n",
       "    </tr>\n",
       "  </thead>\n",
       "  <tbody>\n",
       "    <tr>\n",
       "      <th>CO(GT)</th>\n",
       "      <td>1.000000</td>\n",
       "      <td>0.877203</td>\n",
       "      <td>0.914973</td>\n",
       "      <td>0.792557</td>\n",
       "      <td>-0.701703</td>\n",
       "      <td>0.679262</td>\n",
       "      <td>0.639470</td>\n",
       "      <td>0.851403</td>\n",
       "      <td>0.040218</td>\n",
       "      <td>0.065809</td>\n",
       "      <td>0.845144</td>\n",
       "    </tr>\n",
       "    <tr>\n",
       "      <th>PT08.S1(CO)</th>\n",
       "      <td>0.877203</td>\n",
       "      <td>1.000000</td>\n",
       "      <td>0.892964</td>\n",
       "      <td>0.713654</td>\n",
       "      <td>-0.771938</td>\n",
       "      <td>0.641529</td>\n",
       "      <td>0.682881</td>\n",
       "      <td>0.899324</td>\n",
       "      <td>0.114606</td>\n",
       "      <td>0.135324</td>\n",
       "      <td>0.883795</td>\n",
       "    </tr>\n",
       "    <tr>\n",
       "      <th>PT08.S2(NMHC)</th>\n",
       "      <td>0.914973</td>\n",
       "      <td>0.892964</td>\n",
       "      <td>1.000000</td>\n",
       "      <td>0.704435</td>\n",
       "      <td>-0.796703</td>\n",
       "      <td>0.646245</td>\n",
       "      <td>0.777254</td>\n",
       "      <td>0.880578</td>\n",
       "      <td>-0.090380</td>\n",
       "      <td>0.186933</td>\n",
       "      <td>0.981950</td>\n",
       "    </tr>\n",
       "    <tr>\n",
       "      <th>NOx(GT)</th>\n",
       "      <td>0.792557</td>\n",
       "      <td>0.713654</td>\n",
       "      <td>0.704435</td>\n",
       "      <td>1.000000</td>\n",
       "      <td>-0.655707</td>\n",
       "      <td>0.763111</td>\n",
       "      <td>0.233731</td>\n",
       "      <td>0.787046</td>\n",
       "      <td>0.221032</td>\n",
       "      <td>-0.149323</td>\n",
       "      <td>0.626638</td>\n",
       "    </tr>\n",
       "    <tr>\n",
       "      <th>PT08.S3(NOx)</th>\n",
       "      <td>-0.701703</td>\n",
       "      <td>-0.771938</td>\n",
       "      <td>-0.796703</td>\n",
       "      <td>-0.655707</td>\n",
       "      <td>1.000000</td>\n",
       "      <td>-0.652083</td>\n",
       "      <td>-0.538468</td>\n",
       "      <td>-0.796569</td>\n",
       "      <td>-0.056740</td>\n",
       "      <td>-0.232017</td>\n",
       "      <td>-0.735744</td>\n",
       "    </tr>\n",
       "    <tr>\n",
       "      <th>NO2(GT)</th>\n",
       "      <td>0.679262</td>\n",
       "      <td>0.641529</td>\n",
       "      <td>0.646245</td>\n",
       "      <td>0.763111</td>\n",
       "      <td>-0.652083</td>\n",
       "      <td>1.000000</td>\n",
       "      <td>0.157360</td>\n",
       "      <td>0.708128</td>\n",
       "      <td>-0.091759</td>\n",
       "      <td>-0.335022</td>\n",
       "      <td>0.544039</td>\n",
       "    </tr>\n",
       "    <tr>\n",
       "      <th>PT08.S4(NO2)</th>\n",
       "      <td>0.639470</td>\n",
       "      <td>0.682881</td>\n",
       "      <td>0.777254</td>\n",
       "      <td>0.233731</td>\n",
       "      <td>-0.538468</td>\n",
       "      <td>0.157360</td>\n",
       "      <td>1.000000</td>\n",
       "      <td>0.591144</td>\n",
       "      <td>-0.032188</td>\n",
       "      <td>0.629641</td>\n",
       "      <td>0.765731</td>\n",
       "    </tr>\n",
       "    <tr>\n",
       "      <th>PT08.S5(O3)</th>\n",
       "      <td>0.851403</td>\n",
       "      <td>0.899324</td>\n",
       "      <td>0.880578</td>\n",
       "      <td>0.787046</td>\n",
       "      <td>-0.796569</td>\n",
       "      <td>0.708128</td>\n",
       "      <td>0.591144</td>\n",
       "      <td>1.000000</td>\n",
       "      <td>0.124956</td>\n",
       "      <td>0.070751</td>\n",
       "      <td>0.865689</td>\n",
       "    </tr>\n",
       "    <tr>\n",
       "      <th>RH</th>\n",
       "      <td>0.040218</td>\n",
       "      <td>0.114606</td>\n",
       "      <td>-0.090380</td>\n",
       "      <td>0.221032</td>\n",
       "      <td>-0.056740</td>\n",
       "      <td>-0.091759</td>\n",
       "      <td>-0.032188</td>\n",
       "      <td>0.124956</td>\n",
       "      <td>1.000000</td>\n",
       "      <td>0.167971</td>\n",
       "      <td>-0.061681</td>\n",
       "    </tr>\n",
       "    <tr>\n",
       "      <th>AH</th>\n",
       "      <td>0.065809</td>\n",
       "      <td>0.135324</td>\n",
       "      <td>0.186933</td>\n",
       "      <td>-0.149323</td>\n",
       "      <td>-0.232017</td>\n",
       "      <td>-0.335022</td>\n",
       "      <td>0.629641</td>\n",
       "      <td>0.070751</td>\n",
       "      <td>0.167971</td>\n",
       "      <td>1.000000</td>\n",
       "      <td>0.167972</td>\n",
       "    </tr>\n",
       "    <tr>\n",
       "      <th>C6H6(GT)</th>\n",
       "      <td>0.845144</td>\n",
       "      <td>0.883795</td>\n",
       "      <td>0.981950</td>\n",
       "      <td>0.626638</td>\n",
       "      <td>-0.735744</td>\n",
       "      <td>0.544039</td>\n",
       "      <td>0.765731</td>\n",
       "      <td>0.865689</td>\n",
       "      <td>-0.061681</td>\n",
       "      <td>0.167972</td>\n",
       "      <td>1.000000</td>\n",
       "    </tr>\n",
       "  </tbody>\n",
       "</table>\n",
       "</div>"
      ],
      "text/plain": [
       "                 CO(GT)  PT08.S1(CO)  PT08.S2(NMHC)   NOx(GT)  PT08.S3(NOx)  \\\n",
       "CO(GT)         1.000000     0.877203       0.914973  0.792557     -0.701703   \n",
       "PT08.S1(CO)    0.877203     1.000000       0.892964  0.713654     -0.771938   \n",
       "PT08.S2(NMHC)  0.914973     0.892964       1.000000  0.704435     -0.796703   \n",
       "NOx(GT)        0.792557     0.713654       0.704435  1.000000     -0.655707   \n",
       "PT08.S3(NOx)  -0.701703    -0.771938      -0.796703 -0.655707      1.000000   \n",
       "NO2(GT)        0.679262     0.641529       0.646245  0.763111     -0.652083   \n",
       "PT08.S4(NO2)   0.639470     0.682881       0.777254  0.233731     -0.538468   \n",
       "PT08.S5(O3)    0.851403     0.899324       0.880578  0.787046     -0.796569   \n",
       "RH             0.040218     0.114606      -0.090380  0.221032     -0.056740   \n",
       "AH             0.065809     0.135324       0.186933 -0.149323     -0.232017   \n",
       "C6H6(GT)       0.845144     0.883795       0.981950  0.626638     -0.735744   \n",
       "\n",
       "                NO2(GT)  PT08.S4(NO2)  PT08.S5(O3)        RH        AH  \\\n",
       "CO(GT)         0.679262      0.639470     0.851403  0.040218  0.065809   \n",
       "PT08.S1(CO)    0.641529      0.682881     0.899324  0.114606  0.135324   \n",
       "PT08.S2(NMHC)  0.646245      0.777254     0.880578 -0.090380  0.186933   \n",
       "NOx(GT)        0.763111      0.233731     0.787046  0.221032 -0.149323   \n",
       "PT08.S3(NOx)  -0.652083     -0.538468    -0.796569 -0.056740 -0.232017   \n",
       "NO2(GT)        1.000000      0.157360     0.708128 -0.091759 -0.335022   \n",
       "PT08.S4(NO2)   0.157360      1.000000     0.591144 -0.032188  0.629641   \n",
       "PT08.S5(O3)    0.708128      0.591144     1.000000  0.124956  0.070751   \n",
       "RH            -0.091759     -0.032188     0.124956  1.000000  0.167971   \n",
       "AH            -0.335022      0.629641     0.070751  0.167971  1.000000   \n",
       "C6H6(GT)       0.544039      0.765731     0.865689 -0.061681  0.167972   \n",
       "\n",
       "               C6H6(GT)  \n",
       "CO(GT)         0.845144  \n",
       "PT08.S1(CO)    0.883795  \n",
       "PT08.S2(NMHC)  0.981950  \n",
       "NOx(GT)        0.626638  \n",
       "PT08.S3(NOx)  -0.735744  \n",
       "NO2(GT)        0.544039  \n",
       "PT08.S4(NO2)   0.765731  \n",
       "PT08.S5(O3)    0.865689  \n",
       "RH            -0.061681  \n",
       "AH             0.167972  \n",
       "C6H6(GT)       1.000000  "
      ]
     },
     "execution_count": 11,
     "metadata": {},
     "output_type": "execute_result"
    }
   ],
   "source": [
    "# Calculate correlations between variables\n",
    "corr_matrix = df.corr()\n",
    "corr_matrix"
   ]
  },
  {
   "cell_type": "code",
   "execution_count": 12,
   "id": "2787acfc-d7ac-4134-b113-46e5a37fe239",
   "metadata": {},
   "outputs": [
    {
     "data": {
      "text/plain": [
       "Text(0.5, 1.0, 'Detecting outliers using Boxplot')"
      ]
     },
     "execution_count": 12,
     "metadata": {},
     "output_type": "execute_result"
    },
    {
     "data": {
      "image/png": "[encoded data removed]",
      "text/plain": [
       "<Figure size 432x288 with 1 Axes>"
      ]
     },
     "metadata": {
      "needs_background": "light"
     },
     "output_type": "display_data"
    }
   ],
   "source": [
    "# Choose the least correlated variable\n",
    "nmhc = df['PT08.S3(NOx)'].copy().interpolate() \n",
    "\n",
    "# Visualize a scatter plot(CO, NMHC)\n",
    "plt.scatter(NOx, nmhc, s=12, c='black')\n",
    "plt.xlabel('PT08.S3(NOx)')\n",
    "plt.ylabel('NMHC')\n",
    "plt.title(\"Detecting outliers using Boxplot\")"
   ]
  },
  {
   "cell_type": "code",
   "execution_count": 13,
   "id": "bd213917-ffe6-4ec2-b4c0-3523220ed530",
   "metadata": {},
   "outputs": [
    {
     "name": "stdout",
     "output_type": "stream",
     "text": [
      "654.0 804.0 968.0\n"
     ]
    }
   ],
   "source": [
    "\"\"\"\n",
    "IQR-based Outlier Detection\n",
    "\"\"\"\n",
    "\n",
    "# Q1, Q2(median), Q3\n",
    "q1 = NOx.quantile(0.25) #upper 25%\n",
    "median = NOx.quantile(0.5)\n",
    "q3 = NOx.quantile(0.75)\n",
    "print(q1, median, q3)"
   ]
  },
  {
   "cell_type": "code",
   "execution_count": 14,
   "id": "de92217f-1b35-44eb-9155-6f71372a957f",
   "metadata": {},
   "outputs": [
    {
     "name": "stdout",
     "output_type": "stream",
     "text": [
      "314.0 1439.0 183.0\n"
     ]
    }
   ],
   "source": [
    "# IQR, upper_fence, lower_fence\n",
    "iqr = q3-q1\n",
    "upper_fence = q3 + 1.5*iqr\n",
    "lower_fence = q1 - 1.5*iqr\n",
    "print(iqr,upper_fence, lower_fence)"
   ]
  },
  {
   "cell_type": "code",
   "execution_count": 15,
   "id": "257ca6c9-1d69-4a2f-a582-d92e76cdf762",
   "metadata": {},
   "outputs": [
    {
     "data": {
      "text/plain": [
       "Datetime\n",
       "2004-03-11 00:00:00    1462.0\n",
       "2004-03-11 01:00:00    1453.0\n",
       "2004-03-11 02:00:00    1579.0\n",
       "2004-03-11 03:00:00    1705.0\n",
       "2004-03-11 04:00:00    1818.0\n",
       "                        ...  \n",
       "2005-03-01 03:00:00    1791.0\n",
       "2005-03-01 04:00:00    1804.0\n",
       "2005-03-01 05:00:00    1727.0\n",
       "2005-03-01 06:00:00    1677.0\n",
       "2005-03-07 04:00:00    1490.0\n",
       "Name: PT08.S3(NOx), Length: 239, dtype: float64"
      ]
     },
     "execution_count": 15,
     "metadata": {},
     "output_type": "execute_result"
    }
   ],
   "source": [
    "# Filtering the outliers\n",
    "outliers = NOx.loc[(NOx > upper_fence) | (NOx < 0)]\n",
    "outliers"
   ]
  },
  {
   "cell_type": "code",
   "execution_count": 16,
   "id": "6dabe0d2-f048-4b8f-a3cd-070773ac9357",
   "metadata": {},
   "outputs": [
    {
     "data": {
      "text/plain": [
       "<matplotlib.legend.Legend at 0x21578dc5cd0>"
      ]
     },
     "execution_count": 16,
     "metadata": {},
     "output_type": "execute_result"
    },
    {
     "data": {
      "image/png": "[encoded data removed]",
      "text/plain": [
       "<Figure size 432x288 with 1 Axes>"
      ]
     },
     "metadata": {
      "needs_background": "light"
     },
     "output_type": "display_data"
    }
   ],
   "source": [
    "# Mask for outliers\n",
    "mask = NOx.index.isin(outliers.index)\n",
    "mask[:50]\n",
    "\n",
    "# Visualize the normal data and outliers ~: not\n",
    "plt.plot(NOx[~mask], label='normal', color='blue',\n",
    "    marker='o', markersize=3, linestyle='None')\n",
    "plt.plot(outliers, label='outliers', color='red',\n",
    "    marker='x', markersize=3, linestyle='None')\n",
    "plt.legend(loc='best')"
   ]
  },
  {
   "cell_type": "code",
   "execution_count": 17,
   "id": "a7fa7776-7e38-47dd-8ecb-746ddca7d287",
   "metadata": {},
   "outputs": [
    {
     "name": "stdout",
     "output_type": "stream",
     "text": [
      "Datetime\n",
      "2004-03-11 00:00:00   NaN\n",
      "2004-03-11 01:00:00   NaN\n",
      "2004-03-11 02:00:00   NaN\n",
      "2004-03-11 03:00:00   NaN\n",
      "2004-03-11 04:00:00   NaN\n",
      "                       ..\n",
      "2005-03-01 03:00:00   NaN\n",
      "2005-03-01 04:00:00   NaN\n",
      "2005-03-01 05:00:00   NaN\n",
      "2005-03-01 06:00:00   NaN\n",
      "2005-03-07 04:00:00   NaN\n",
      "Name: PT08.S3(NOx), Length: 239, dtype: float64\n"
     ]
    }
   ],
   "source": [
    "# Removing the outliers\n",
    "NOx_refined = NOx.copy()\n",
    "NOx_refined[mask] = np.nan\n",
    "print(NOx_refined[mask])"
   ]
  },
  {
   "cell_type": "code",
   "execution_count": 18,
   "id": "014c4cd4-be5f-44aa-8fd7-9d1bdb3d6279",
   "metadata": {},
   "outputs": [
    {
     "data": {
      "text/plain": [
       "<AxesSubplot:xlabel='Datetime'>"
      ]
     },
     "execution_count": 18,
     "metadata": {},
     "output_type": "execute_result"
    },
    {
     "data": {
      "image/png": "[encoded data removed]",
      "text/plain": [
       "<Figure size 432x288 with 1 Axes>"
      ]
     },
     "metadata": {
      "needs_background": "light"
     },
     "output_type": "display_data"
    }
   ],
   "source": [
    "# Linear interpolation for reconstructing outliers removed.\n",
    "NOx_refined.interpolate(inplace = True)\n",
    "NOx_refined.plot()"
   ]
  },
  {
   "cell_type": "code",
   "execution_count": 19,
   "id": "d5c543b1-32cc-42ea-8db3-45c865236ed6",
   "metadata": {},
   "outputs": [
    {
     "name": "stderr",
     "output_type": "stream",
     "text": [
      "C:\\Users\\lejeo\\anaconda3\\lib\\site-packages\\seaborn\\distributions.py:2619: FutureWarning: `distplot` is a deprecated function and will be removed in a future version. Please adapt your code to use either `displot` (a figure-level function with similar flexibility) or `histplot` (an axes-level function for histograms).\n",
      "  warnings.warn(msg, FutureWarning)\n"
     ]
    },
    {
     "data": {
      "text/plain": [
       "<AxesSubplot:xlabel='PT08.S3(NOx)', ylabel='Density'>"
      ]
     },
     "execution_count": 19,
     "metadata": {},
     "output_type": "execute_result"
    },
    {
     "data": {
      "image/png": "[encoded data removed]",
      "text/plain": [
       "<Figure size 432x288 with 1 Axes>"
      ]
     },
     "metadata": {
      "needs_background": "light"
     },
     "output_type": "display_data"
    }
   ],
   "source": [
    "\"\"\"\n",
    "Detecting Outliers with Z-Scores\n",
    "\"\"\"\n",
    "\n",
    "# Visualize the distribution of the 'PT08.S3(NOx)' variable\n",
    "import seaborn as sns\n",
    "\n",
    "sns.distplot(NOx)"
   ]
  },
  {
   "cell_type": "code",
   "execution_count": 20,
   "id": "d3247ca6-ebe5-4ff5-af80-6ff64d47cc5d",
   "metadata": {},
   "outputs": [
    {
     "name": "stdout",
     "output_type": "stream",
     "text": [
      "832.7588970823982 255.69616900657363\n"
     ]
    }
   ],
   "source": [
    "# Mean, Standard deviation\n",
    "mean = np.mean(NOx)\n",
    "std = np.std(NOx)\n",
    "print(mean,std)"
   ]
  },
  {
   "cell_type": "code",
   "execution_count": 21,
   "id": "329b86c0-e2ae-46e1-b126-9e5d6814bb4d",
   "metadata": {},
   "outputs": [
    {
     "name": "stdout",
     "output_type": "stream",
     "text": [
      "3.4112404042126165\n",
      "3.8531711552247483\n",
      "4.244260315412475\n",
      "3.5402998270745667\n",
      "3.3134681141656848\n",
      "4.146488025365544\n",
      "4.154309808569298\n",
      "3.3330225721750715\n",
      "3.0788146180530487\n",
      "3.833616697215362\n",
      "3.6106958759083576\n",
      "3.7280226239646757\n",
      "3.395596837805108\n",
      "4.205151399393703\n",
      "3.419062187416371\n",
      "4.310745472644389\n",
      "3.0162403524230124\n",
      "3.168765124896226\n",
      "3.051438376839908\n",
      "3.387775054601353\n",
      "3.5833196346952167\n",
      "3.8844582880397667\n",
      "3.4112404042126165\n",
      "3.0592601600436624\n",
      "3.8688147216322575\n",
      "4.2638147734218625\n",
      "3.6106958759083576\n",
      "3.051438376839908\n",
      "3.716289949159044\n",
      "3.462081995037021\n",
      "3.4777255614445304\n",
      "3.8844582880397667\n",
      "3.137477992081208\n",
      "3.098369076062435\n",
      "3.8101513476040982\n",
      "4.189507832986194\n",
      "3.794507781196589\n",
      "3.763220648381571\n",
      "4.334210822255653\n",
      "4.240349423810598\n",
      "3.4034186210088624\n",
      "3.6146067675102347\n",
      "3.254804740137526\n",
      "3.0045076776173807\n",
      "3.2469829569337714\n",
      "3.168765124896226\n",
      "3.6693592499365164\n",
      "4.8660920801109615\n",
      "4.807428706082803\n",
      "4.424161329098831\n",
      "3.7553988651778165\n",
      "3.2508938485356484\n",
      "3.4542602118332666\n",
      "5.038171310593562\n",
      "4.529755402349516\n",
      "3.677181033140271\n",
      "3.774953323187203\n",
      "3.3056463309619306\n",
      "4.322478147450021\n",
      "3.258715631739403\n",
      "3.587230526297094\n",
      "3.6576265751308847\n",
      "3.6850028163440256\n",
      "3.387775054601353\n",
      "4.1738642665786845\n",
      "4.388963304681935\n",
      "4.729210874045258\n",
      "4.803517814480926\n",
      "4.936488128944752\n",
      "4.600151451183307\n",
      "3.387775054601353\n",
      "3.516834477463303\n",
      "3.4112404042126165\n",
      "3.188319582905612\n",
      "3.1061908592661895\n",
      "3.8297058056134845\n",
      "3.7397552987703073\n",
      "4.291191014635003\n",
      "4.748765332054644\n",
      "4.936488128944752\n",
      "3.2626265233412806\n",
      "4.455448461913848\n",
      "3.5051018026576712\n",
      "3.051438376839908\n",
      "4.881735646518471\n",
      "5.8594585469877885\n",
      "6.751141832215806\n",
      "5.7147555577183295\n",
      "7.2360923908485875\n",
      "5.843814980580279\n",
      "5.808616956163384\n",
      "6.684656674983892\n",
      "3.512923585861426\n",
      "3.207874040914999\n",
      "3.4933691278520396\n",
      "3.4112404042126165\n",
      "3.2000522577112442\n",
      "3.376042379795721\n",
      "3.7241117323627986\n",
      "3.5676760682877076\n",
      "3.0866364012568033\n",
      "3.6850028163440256\n",
      "4.0995573261430165\n",
      "3.180497799701858\n",
      "3.0357948104323986\n",
      "3.2508938485356484\n",
      "3.254804740137526\n",
      "3.747577081974062\n",
      "3.7984186727984666\n",
      "3.4972800194539166\n",
      "3.301735439360053\n"
     ]
    }
   ],
   "source": [
    "# Calculate Z-scores for each data points\n",
    "outliers = []\n",
    "thres = 3 # Z-score threshold\n",
    "for i in NOx:\n",
    "    z_score = (i-mean) / std\n",
    "    if (np.abs(z_score) > thres):\n",
    "        print(z_score)\n",
    "        outliers.append(i)"
   ]
  },
  {
   "cell_type": "code",
   "execution_count": 25,
   "id": "0a6132f9-9f56-4b26-b970-30d5fd674dce",
   "metadata": {},
   "outputs": [
    {
     "data": {
      "text/plain": [
       "array([False, False, False, False, False, False, False, False, False,\n",
       "       False, False, False, False, False, False, False, False, False,\n",
       "       False, False, False, False, False, False, False, False, False,\n",
       "       False, False, False, False, False, False, False, False, False,\n",
       "       False, False, False, False, False, False, False, False, False,\n",
       "       False, False, False, False, False])"
      ]
     },
     "execution_count": 25,
     "metadata": {},
     "output_type": "execute_result"
    }
   ],
   "source": [
    "# Mask for outliers\n",
    "mask = NOx.index.isin([outliers.index])\n",
    "mask[:50]"
   ]
  },
  {
   "cell_type": "code",
   "execution_count": 26,
   "id": "b8b302bc-b762-41d8-a873-068d63c34642",
   "metadata": {},
   "outputs": [
    {
     "name": "stderr",
     "output_type": "stream",
     "text": [
      "C:\\Users\\lejeo\\anaconda3\\lib\\site-packages\\seaborn\\distributions.py:2619: FutureWarning: `distplot` is a deprecated function and will be removed in a future version. Please adapt your code to use either `displot` (a figure-level function with similar flexibility) or `histplot` (an axes-level function for histograms).\n",
      "  warnings.warn(msg, FutureWarning)\n",
      "C:\\Users\\lejeo\\anaconda3\\lib\\site-packages\\seaborn\\distributions.py:2619: FutureWarning: `distplot` is a deprecated function and will be removed in a future version. Please adapt your code to use either `displot` (a figure-level function with similar flexibility) or `histplot` (an axes-level function for histograms).\n",
      "  warnings.warn(msg, FutureWarning)\n"
     ]
    },
    {
     "data": {
      "text/plain": [
       "<matplotlib.legend.Legend at 0x2157c98c280>"
      ]
     },
     "execution_count": 26,
     "metadata": {},
     "output_type": "execute_result"
    },
    {
     "data": {
      "image/png": "[encoded data removed]",
      "text/plain": [
       "<Figure size 432x288 with 1 Axes>"
      ]
     },
     "metadata": {
      "needs_background": "light"
     },
     "output_type": "display_data"
    }
   ],
   "source": [
    "# Comparison of distributions before/after outlier removal\n",
    "sns.distplot(NOx, axlabel='PT08.S3(NOx)', label='original')\n",
    "sns.distplot(NOx[~mask], label='outliers removed')\n",
    "plt.legend(loc='best')\n",
    "\n",
    "# [exer] Adjust thres"
   ]
  },
  {
   "cell_type": "code",
   "execution_count": 29,
   "id": "bf2a647a-72ef-4d41-866b-efb04ea4026d",
   "metadata": {},
   "outputs": [
    {
     "data": {
      "text/plain": [
       "<AxesSubplot:xlabel='Datetime'>"
      ]
     },
     "execution_count": 29,
     "metadata": {},
     "output_type": "execute_result"
    },
    {
     "data": {
      "image/png": "[encoded data removed]",
      "text/plain": [
       "<Figure size 432x288 with 1 Axes>"
      ]
     },
     "metadata": {
      "needs_background": "light"
     },
     "output_type": "display_data"
    }
   ],
   "source": [
    "# Flooring and Capping\n",
    "floor = NOx.quantile(0.1)\n",
    "cap = NOx.quantile(0.9)\n",
    "NOx.loc[NOx < floor] = floor\n",
    "NOx.loc[NOx > cap] = cap\n",
    "\n",
    "# Visualize the result\n",
    "NOx.plot()"
   ]
  },
  {
   "cell_type": "code",
   "execution_count": null,
   "id": "9e084caf-645d-480e-ad4d-ce4b1122ece7",
   "metadata": {},
   "outputs": [],
   "source": []
  }
 ],
 "metadata": {
  "kernelspec": {
   "display_name": "Python 3 (ipykernel)",
   "language": "python",
   "name": "python3"
  },
  "language_info": {
   "codemirror_mode": {
    "name": "ipython",
    "version": 3
   },
   "file_extension": ".py",
   "mimetype": "text/x-python",
   "name": "python",
   "nbconvert_exporter": "python",
   "pygments_lexer": "ipython3",
   "version": "3.9.7"
  }
 },
 "nbformat": 4,
 "nbformat_minor": 5
}
